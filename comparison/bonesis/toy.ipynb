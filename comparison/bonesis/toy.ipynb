{
 "cells": [
  {
   "cell_type": "code",
   "execution_count": 91,
   "metadata": {},
   "outputs": [],
   "source": [
    "import bonesis\n",
    "import bonesis.aeon\n",
    "import biodivine_aeon\n",
    "import csv\n",
    "import textwrap"
   ]
  },
  {
   "cell_type": "code",
   "execution_count": 92,
   "metadata": {},
   "outputs": [],
   "source": [
    "aeon = \"toy.aeon\"\n",
    "data_loc = \"toy.tsv\""
   ]
  },
  {
   "cell_type": "code",
   "execution_count": 93,
   "metadata": {},
   "outputs": [],
   "source": [
    "with open(aeon, \"w\") as fp:\n",
    "    fp.write(textwrap.dedent(\"\"\"\\\n",
    "        #name:toy\n",
    "        #rule for A is fixed\n",
    "        $A:!A | C & T\n",
    "        A -| A\n",
    "        C -> A\n",
    "        T -> A\n",
    "        #C regulates B\n",
    "        A -|? B\n",
    "        B -|? B\n",
    "        C -> B\n",
    "        #(A, B) is grouped for C\n",
    "        $AB: A & B\n",
    "        A -> AB\n",
    "        B -> AB\n",
    "        AB -?? C\n",
    "        #T is the source\n",
    "        $T:T\n",
    "        T -> T\"\"\"))\n",
    "\n",
    "with open(data_loc, \"w\") as fp:\n",
    "    fp.write(textwrap.dedent(\"\"\"\\\n",
    "        ID\\tScore\\tSource\\tPerturbation\\tObserved node\\tCategorization\n",
    "        1\\t1.0\\tT=1\\t\\tA\\tON\n",
    "        2\\t1.0\\tT=1\\t\\tB\\tON\n",
    "        3\\t1.0\\tT=1\\t\\tC\\tON\n",
    "        4\\t1.0\\tT=1\\tC KO\\tB\\tOFF\"\"\"))"
   ]
  },
  {
   "cell_type": "code",
   "execution_count": 94,
   "metadata": {},
   "outputs": [
    {
     "name": "stdout",
     "output_type": "stream",
     "text": [
      "5\n",
      "{'A_OFF': {'A': 0}, 'A_ON': {'A': 1}, 'AB_OFF': {'AB': 0}, 'AB_ON': {'AB': 1}, 'B_OFF': {'B': 0}, 'B_ON': {'B': 1}, 'C_OFF': {'C': 0}, 'C_ON': {'C': 1}, 'T_OFF': {'T': 0}, 'T_ON': {'T': 1}}\n"
     ]
    }
   ],
   "source": [
    "aeon_bn = biodivine_aeon.BooleanNetwork.from_file(aeon)\n",
    "\n",
    "aeon_bn.explicit_parameter_count()\n",
    "\n",
    "rg = aeon_bn.to_graph()\n",
    "\n",
    "\n",
    "print(len(rg.variable_names()))\n",
    "\n",
    "data = {}\n",
    "for node in rg.variable_names():\n",
    "    data[node + \"_OFF\"] = {node:0}\n",
    "    data[node + \"_ON\"] = {node:1}\n",
    "\n",
    "\n",
    "print(data)"
   ]
  },
  {
   "cell_type": "code",
   "execution_count": 95,
   "metadata": {},
   "outputs": [],
   "source": [
    "dom = bonesis.aeon.AEONDomain.from_aeon_file(aeon)\n",
    "\n",
    "bo = bonesis.BoNesis(dom, data)"
   ]
  },
  {
   "cell_type": "code",
   "execution_count": 96,
   "metadata": {},
   "outputs": [
    {
     "data": {
      "text/plain": [
       "True"
      ]
     },
     "execution_count": 96,
     "metadata": {},
     "output_type": "execute_result"
    }
   ],
   "source": [
    "bo.is_satisfiable()"
   ]
  },
  {
   "cell_type": "code",
   "execution_count": 97,
   "metadata": {},
   "outputs": [
    {
     "name": "stdout",
     "output_type": "stream",
     "text": [
      "Grounding...done in 0.0s\n",
      "56\n",
      "Grounding...done in 0.0s\n",
      "--------------------\n",
      "A <- !A|(C&T)\n",
      "AB <- A&B\n",
      "B <- C\n",
      "C <- 1\n",
      "T <- T\n",
      "\n",
      "{'A': 1, 'AB': 1, 'B': 1, 'C': 1, 'T': 1}\n",
      "{'A': '*', 'AB': '*', 'B': 1, 'C': 1, 'T': 0}\n",
      "--------------------\n",
      "A <- !A|(C&T)\n",
      "AB <- A&B\n",
      "B <- C\n",
      "C <- !AB\n",
      "T <- T\n",
      "\n",
      "{'A': '*', 'AB': '*', 'B': '*', 'C': '*', 'T': 0}\n",
      "{'A': '*', 'AB': '*', 'B': '*', 'C': '*', 'T': 1}\n",
      "--------------------\n",
      "A <- !A|(C&T)\n",
      "AB <- A&B\n",
      "B <- C\n",
      "C <- AB\n",
      "T <- T\n",
      "\n",
      "{'A': 1, 'AB': 1, 'B': 1, 'C': 1, 'T': 1}\n",
      "{'A': '*', 'AB': 0, 'B': 0, 'C': 0, 'T': 0}\n",
      "{'A': '*', 'AB': 0, 'B': 0, 'C': 0, 'T': 1}\n",
      "--------------------\n",
      "A <- !A|(C&T)\n",
      "AB <- A&B\n",
      "B <- C\n",
      "C <- 0\n",
      "T <- T\n",
      "\n",
      "{'A': '*', 'AB': 0, 'B': 0, 'C': 0, 'T': 0}\n",
      "{'A': '*', 'AB': 0, 'B': 0, 'C': 0, 'T': 1}\n",
      "--------------------\n",
      "A <- !A|(C&T)\n",
      "AB <- A&B\n",
      "B <- !B&C\n",
      "C <- 1\n",
      "T <- T\n",
      "\n",
      "{'A': 1, 'AB': '*', 'B': '*', 'C': 1, 'T': 1}\n",
      "{'A': '*', 'AB': '*', 'B': '*', 'C': 1, 'T': 0}\n",
      "--------------------\n",
      "A <- !A|(C&T)\n",
      "AB <- A&B\n",
      "B <- !B&C\n",
      "C <- AB\n",
      "T <- T\n",
      "\n",
      "{'A': '*', 'AB': 0, 'B': 0, 'C': 0, 'T': 0}\n",
      "{'A': '*', 'AB': 0, 'B': 0, 'C': 0, 'T': 1}\n",
      "--------------------\n",
      "A <- !A|(C&T)\n",
      "AB <- A&B\n",
      "B <- !B&C\n",
      "C <- !AB\n",
      "T <- T\n",
      "\n",
      "{'A': '*', 'AB': '*', 'B': '*', 'C': '*', 'T': 0}\n",
      "{'A': '*', 'AB': '*', 'B': '*', 'C': '*', 'T': 1}\n",
      "--------------------\n",
      "A <- !A|(C&T)\n",
      "AB <- A&B\n",
      "B <- !B&C\n",
      "C <- 0\n",
      "T <- T\n",
      "\n",
      "{'A': '*', 'AB': 0, 'B': 0, 'C': 0, 'T': 0}\n",
      "{'A': '*', 'AB': 0, 'B': 0, 'C': 0, 'T': 1}\n",
      "--------------------\n",
      "A <- !A|(C&T)\n",
      "AB <- A&B\n",
      "B <- !B|C\n",
      "C <- 1\n",
      "T <- T\n",
      "\n",
      "{'A': 1, 'AB': 1, 'B': 1, 'C': 1, 'T': 1}\n",
      "{'A': '*', 'AB': '*', 'B': 1, 'C': 1, 'T': 0}\n",
      "--------------------\n",
      "A <- !A|(C&T)\n",
      "AB <- A&B\n",
      "B <- !B|C\n",
      "C <- !AB\n",
      "T <- T\n",
      "\n",
      "{'A': '*', 'AB': '*', 'B': '*', 'C': '*', 'T': 0}\n",
      "{'A': '*', 'AB': '*', 'B': '*', 'C': '*', 'T': 1}\n"
     ]
    }
   ],
   "source": [
    "model_name = \"toy\"\n",
    "\n",
    "print(bo.boolean_networks().count())\n",
    "\n",
    "i=0\n",
    "for bn in bo.boolean_networks(limit=10):\n",
    "    i+=1\n",
    "    # if not os.path.exists(f\"{model_name}\"):\n",
    "    #     os.makedirs(f\"{model_name}\")\n",
    "    # bn.save(f\"{model_name}/bn-solution_{i}.bnet\")\n",
    "\n",
    "    print(\"-\"*20)\n",
    "    print(bn)\n",
    "    for att in list(bn.attractors()):\n",
    "        print(att)"
   ]
  },
  {
   "cell_type": "code",
   "execution_count": 98,
   "metadata": {},
   "outputs": [],
   "source": [
    "def comment_removal(line:str) -> bool:\n",
    "    if line.startswith(\"#\"):\n",
    "        print(line)\n",
    "    return not line.startswith(\"#\") and not line.isspace()\n",
    "\n",
    "def get_bo(aeon, data, data_loc, skip_list):\n",
    "\n",
    "    dom = bonesis.aeon.AEONDomain.from_aeon_file(aeon)\n",
    "\n",
    "    bo = bonesis.BoNesis(dom, data)\n",
    "\n",
    "\n",
    "    ID, SCORE, SOURCE, PERT, NODE, VALUE = 0, 1, 2, 3, 4, 5\n",
    "\n",
    "    file = open(data_loc, \"r\")\n",
    "    lines = filter(comment_removal, file)\n",
    "    data_csv = csv.reader(lines, delimiter=\"\\t\")\n",
    "\n",
    "    # skip the first row\n",
    "    next(data_csv)\n",
    "\n",
    "    i = 0\n",
    "    for row in data_csv:\n",
    "\n",
    "        # ignore any data with \"Some\"\n",
    "        if row[VALUE] in [\"Some\", \"Some/ON\", \"OFF/Some\"]:\n",
    "            continue\n",
    "\n",
    "        if int(row[ID]) in skip_list:\n",
    "            continue\n",
    "        \n",
    "        i+=1\n",
    "\n",
    "        if row[VALUE] == \"ON\":\n",
    "            node_state = row[NODE] + \"_ON\"\n",
    "        elif row[VALUE] == \"OFF\":\n",
    "            node_state = row[NODE] + \"_OFF\"\n",
    "        else:\n",
    "            print(\"Unexpected value\", row[VALUE])\n",
    "            raise Exception(\"Unexpected experiment output\")\n",
    "\n",
    "        # wild type\n",
    "        if row[SOURCE] == \"\" and row[PERT] == \"\":\n",
    "            bo.fixed(bo.obs(node_state))\n",
    "            bo.all_fixpoints(bo.obs(node_state))\n",
    "\n",
    "        # perturbations\n",
    "        else:\n",
    "            fixes_dict = {}\n",
    "            if row[SOURCE] != \"\":\n",
    "                # add source node values to the fixes\n",
    "                source_str = row[SOURCE].split(\",\")\n",
    "                for sth in source_str:\n",
    "                    node, value = sth.strip().split(\"=\")\n",
    "                    fixes_dict[node] = int(value)\n",
    "        \n",
    "            if row[PERT] != \"\":\n",
    "                # add other perturbations to the fixes\n",
    "                pert_str = row[PERT].split(\",\")\n",
    "                for sth in pert_str:\n",
    "                    node, value_str = sth.strip().split(\" \")\n",
    "                    if value_str == \"KO\":\n",
    "                        value = 0\n",
    "                    elif value_str == \"CA\":\n",
    "                        value = 1\n",
    "                    else:\n",
    "                        raise Exception(\"Perturbation should be KO or CA\")\n",
    "                    fixes_dict[node] = int(value)\n",
    "\n",
    "            with bo.mutant(fixes_dict):\n",
    "                bo.fixed(bo.obs(node_state))\n",
    "                bo.all_fixpoints(bo.obs(node_state))\n",
    "\n",
    "    print(\"incorporated\", i, \"experiments\")\n",
    "    \n",
    "    file.close()\n",
    "\n",
    "\n",
    "    return bo"
   ]
  },
  {
   "cell_type": "code",
   "execution_count": 99,
   "metadata": {},
   "outputs": [
    {
     "name": "stdout",
     "output_type": "stream",
     "text": [
      "incorporated 4 experiments\n"
     ]
    },
    {
     "data": {
      "text/plain": [
       "True"
      ]
     },
     "execution_count": 99,
     "metadata": {},
     "output_type": "execute_result"
    }
   ],
   "source": [
    "bo = get_bo(aeon, data, data_loc, [])\n",
    "\n",
    "bo.is_satisfiable()"
   ]
  },
  {
   "cell_type": "code",
   "execution_count": 100,
   "metadata": {},
   "outputs": [
    {
     "name": "stdout",
     "output_type": "stream",
     "text": [
      "Grounding...done in 0.0s\n",
      "2\n",
      "Grounding...done in 0.0s\n",
      "--------------------\n",
      "A <- !A|(C&T)\n",
      "AB <- A&B\n",
      "B <- C\n",
      "C <- 1\n",
      "T <- T\n",
      "\n",
      "{'A': 1, 'AB': 1, 'B': 1, 'C': 1, 'T': 1}\n",
      "{'A': '*', 'AB': '*', 'B': 1, 'C': 1, 'T': 0}\n",
      "--------------------\n",
      "A <- !A|(C&T)\n",
      "AB <- A&B\n",
      "B <- C\n",
      "C <- AB\n",
      "T <- T\n",
      "\n",
      "{'A': 1, 'AB': 1, 'B': 1, 'C': 1, 'T': 1}\n",
      "{'A': '*', 'AB': 0, 'B': 0, 'C': 0, 'T': 0}\n",
      "{'A': '*', 'AB': 0, 'B': 0, 'C': 0, 'T': 1}\n"
     ]
    }
   ],
   "source": [
    "model_name = \"toy\"\n",
    "\n",
    "print(bo.boolean_networks().count())\n",
    "\n",
    "i=0\n",
    "for bn in bo.boolean_networks(limit=11):\n",
    "    i+=1\n",
    "    # if not os.path.exists(f\"{model_name}\"):\n",
    "    #     os.makedirs(f\"{model_name}\")\n",
    "    # bn.save(f\"{model_name}/bn-solution_{i}.bnet\")\n",
    "\n",
    "    print(\"-\"*20)\n",
    "    print(bn)\n",
    "    for att in list(bn.attractors()):\n",
    "        print(att)"
   ]
  }
 ],
 "metadata": {
  "kernelspec": {
   "display_name": ".venv",
   "language": "python",
   "name": "python3"
  },
  "language_info": {
   "codemirror_mode": {
    "name": "ipython",
    "version": 3
   },
   "file_extension": ".py",
   "mimetype": "text/x-python",
   "name": "python",
   "nbconvert_exporter": "python",
   "pygments_lexer": "ipython3",
   "version": "3.11.4"
  }
 },
 "nbformat": 4,
 "nbformat_minor": 2
}
