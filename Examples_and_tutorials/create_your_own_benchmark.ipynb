{
 "cells": [
  {
   "cell_type": "code",
   "execution_count": 1,
   "metadata": {},
   "outputs": [],
   "source": [
    "import pystablemotifs as sm\n",
    "import boolmore.benchmarks as bm\n",
    "from boolmore.model import Model"
   ]
  },
  {
   "cell_type": "markdown",
   "metadata": {},
   "source": [
    "Generate artificial experiment data and export it to DATA"
   ]
  },
  {
   "cell_type": "code",
   "execution_count": 2,
   "metadata": {},
   "outputs": [
    {
     "name": "stdout",
     "output_type": "stream",
     "text": [
      "Loading primes . . .\n",
      "Primes loaded.\n",
      "\n",
      "Generating artificial experimental data . . .\n",
      "Exported generated experiments to c:\\Users\\danie\\OneDrive\\Documents\\Codes\\BoolMoRe\\Examples_and_tutorials\\artificial_experiments.tsv\n"
     ]
    }
   ],
   "source": [
    "# base model taken as ground truth\n",
    "BASE = 'Cortical_Area_Development.txt'\n",
    "# number of experiments to generate (default is 10*N)\n",
    "N_EXPS = 50\n",
    "# location of the generated experiments file\n",
    "DATA = 'artificial_experiments.tsv'\n",
    "\n",
    "print(\"Loading primes . . .\")\n",
    "base_primes = sm.format.import_primes(BASE)\n",
    "print(\"Primes loaded.\\n\")\n",
    "\n",
    "print(\"Generating artificial experimental data . . .\")\n",
    "exps, pert, max_score = bm.generate_experiments(base_primes, N_EXPS, True, DATA)"
   ]
  },
  {
   "cell_type": "markdown",
   "metadata": {},
   "source": [
    "Generate the scrambled model and export it to 'MODEL_id_gen.txt'"
   ]
  },
  {
   "cell_type": "code",
   "execution_count": 3,
   "metadata": {},
   "outputs": [
    {
     "name": "stdout",
     "output_type": "stream",
     "text": [
      "Loading base model . . .\n",
      "Base model loaded.\n",
      "id:  0\n",
      "generation:  0\n",
      "extra edges:  []\n",
      "score:  50.0\n",
      "following constraints: True\n",
      "complexity: 14\n",
      "\n",
      "Generating scrambled model . . .\n",
      "Scrambled model generated.\n",
      "id:  1\n",
      "generation:  1\n",
      "extra edges:  []\n",
      "score:  43.25\n",
      "following constraints: True\n",
      "complexity: 11\n",
      "Exported generated experiments to c:\\Users\\danie\\OneDrive\\Documents\\Codes\\BoolMoRe\\Examples_and_tutorials\\scramble_model_1_gen1.txt\n",
      "\n"
     ]
    }
   ],
   "source": [
    "MODEL = 'scramble_model'\n",
    "\n",
    "print(\"Loading base model . . .\")\n",
    "base = Model.import_model(base_primes)\n",
    "print(\"Base model loaded.\")\n",
    "base.max_score = max_score\n",
    "base.get_predictions(pert)\n",
    "base.get_model_score(exps)\n",
    "base.info()\n",
    "print()\n",
    "\n",
    "print(\"Generating scrambled model . . .\")\n",
    "scramble_model = base.mutate(0.5, 0)\n",
    "print(\"Scrambled model generated.\")\n",
    "scramble_model.get_predictions(pert)\n",
    "scramble_model.get_model_score(exps)\n",
    "scramble_model.info()\n",
    "scramble_model.export(MODEL)\n",
    "print()"
   ]
  }
 ],
 "metadata": {
  "kernelspec": {
   "display_name": "Python 3",
   "language": "python",
   "name": "python3"
  },
  "language_info": {
   "codemirror_mode": {
    "name": "ipython",
    "version": 3
   },
   "file_extension": ".py",
   "mimetype": "text/x-python",
   "name": "python",
   "nbconvert_exporter": "python",
   "pygments_lexer": "ipython3",
   "version": "3.11.4"
  },
  "orig_nbformat": 4
 },
 "nbformat": 4,
 "nbformat_minor": 2
}
