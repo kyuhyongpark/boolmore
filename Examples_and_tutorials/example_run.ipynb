{
 "cells": [
  {
   "cell_type": "markdown",
   "metadata": {},
   "source": [
    "Before running the script,  \n",
    "check json file if it has the proper locations of data and the base model"
   ]
  },
  {
   "cell_type": "code",
   "execution_count": 1,
   "metadata": {},
   "outputs": [
    {
     "name": "stdout",
     "output_type": "stream",
     "text": [
      "Loading experimental data . . .\n",
      "Experimental data loaded.\n",
      "\n",
      "Loading base model . . .\n",
      "Base model loaded.\n",
      "id:  0\n",
      "generation:  0\n",
      "extra edges:  []\n",
      "score:  50.0\n",
      "following constraints: True\n",
      "complexity: 14\n",
      "\n",
      "Loading starting model . . .\n",
      "Starting model loaded.\n",
      "id:  1\n",
      "generation:  1\n",
      "extra edges:  []\n",
      "score:  28.166666666666668\n",
      "following constraints: True\n",
      "complexity: 13\n",
      "\n",
      "- - - - - iteration  0  - - - - -\n",
      "top score : 35.75\n",
      "extra edges : 0\n",
      "complexity of the top model : 16\n",
      "- - - - - iteration  1  - - - - -\n",
      "top score :  37.99999999999999\n",
      "extra edges : 0\n",
      "complexity of the top model : 14\n",
      "- - - - - iteration  2  - - - - -\n",
      "top score :  46.166666666666664\n",
      "extra edges : 0\n",
      "complexity of the top model : 21\n",
      "- - - - - iteration  3  - - - - -\n",
      "top score :  46.5\n",
      "extra edges : 0\n",
      "complexity of the top model : 18\n",
      "- - - - - iteration  4  - - - - -\n",
      "top score :  46.5\n",
      "extra edges : 0\n",
      "complexity of the top model : 18\n",
      "- - - - - iteration  5  - - - - -\n",
      "top score :  46.5\n",
      "extra edges : 0\n",
      "complexity of the top model : 18\n",
      "- - - - - iteration  6  - - - - -\n",
      "top score :  47.5\n",
      "extra edges : 0\n",
      "complexity of the top model : 11\n",
      "- - - - - iteration  7  - - - - -\n",
      "top score :  47.5\n",
      "extra edges : 0\n",
      "complexity of the top model : 11\n",
      "- - - - - iteration  8  - - - - -\n",
      "top score :  47.5\n",
      "extra edges : 0\n",
      "complexity of the top model : 11\n",
      "- - - - - iteration  9  - - - - -\n",
      "top score :  47.5\n",
      "extra edges : 0\n",
      "complexity of the top model : 11\n",
      "- - - - - iteration  10  - - - - -\n",
      "top score :  48.5\n",
      "extra edges : 0\n",
      "complexity of the top model : 9\n",
      "- - - - - iteration  11  - - - - -\n",
      "top score :  50.0\n",
      "extra edges : 0\n",
      "complexity of the top model : 11\n",
      "Exported generated experiments to c:\\Users\\danie\\OneDrive\\Documents\\Codes\\BoolMoRe\\Examples_and_tutorials\\CAD_scrambled_98_gen9.txt\n",
      "max score reached\n"
     ]
    }
   ],
   "source": [
    "import boolmore.genetic_algorithm\n",
    "\n",
    "boolmore.genetic_algorithm.run_ga('CAD_config.json', 'CAD_scrambled.txt')"
   ]
  }
 ],
 "metadata": {
  "kernelspec": {
   "display_name": "Python 3",
   "language": "python",
   "name": "python3"
  },
  "language_info": {
   "codemirror_mode": {
    "name": "ipython",
    "version": 3
   },
   "file_extension": ".py",
   "mimetype": "text/x-python",
   "name": "python",
   "nbconvert_exporter": "python",
   "pygments_lexer": "ipython3",
   "version": "3.11.4"
  },
  "orig_nbformat": 4
 },
 "nbformat": 4,
 "nbformat_minor": 2
}
