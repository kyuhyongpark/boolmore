{
 "cells": [
  {
   "cell_type": "code",
   "execution_count": 1,
   "metadata": {},
   "outputs": [],
   "source": [
    "from pyboolnet.external.bnet2primes import bnet_file2primes\n",
    "\n",
    "import boolmore.benchmark as bm\n",
    "from boolmore.model import Model"
   ]
  },
  {
   "cell_type": "markdown",
   "metadata": {},
   "source": [
    "Generate artificial experiment data and export it to DATA"
   ]
  },
  {
   "cell_type": "code",
   "execution_count": 2,
   "metadata": {},
   "outputs": [
    {
     "name": "stdout",
     "output_type": "stream",
     "text": [
      "Loading primes . . .\n",
      "Primes loaded.\n",
      "\n",
      "Generating artificial experimental data . . .\n",
      "Exported generated experiments to c:\\Users\\danie\\OneDrive\\Documents\\Codes\\boolmore\\demo\\CAD_data.tsv\n"
     ]
    }
   ],
   "source": [
    "# base model taken as ground truth\n",
    "BASE = \"CAD.bnet\"\n",
    "\n",
    "# number of experiments to generate (default is 10*N)\n",
    "N_EXPS = 50\n",
    "\n",
    "# location of the generated experiments file\n",
    "DATA = \"CAD_data.tsv\"\n",
    "\n",
    "# seed for the random number generator\n",
    "SEED = 0\n",
    "\n",
    "\n",
    "print(\"Loading primes . . .\")\n",
    "base_primes = bnet_file2primes(BASE)\n",
    "print(\"Primes loaded.\\n\")\n",
    "\n",
    "print(\"Generating artificial experimental data . . .\")\n",
    "exps, pert = bm.generate_experiments(base_primes, N_EXPS, seed=SEED, export=True, file_name=DATA)"
   ]
  },
  {
   "cell_type": "markdown",
   "metadata": {},
   "source": [
    "Generate the scrambled model and export it to MODEL"
   ]
  },
  {
   "cell_type": "code",
   "execution_count": 3,
   "metadata": {},
   "outputs": [
    {
     "name": "stdout",
     "output_type": "stream",
     "text": [
      "Loading base model . . .\n",
      "Base model loaded.\n",
      "id:  0\n",
      "generation:  0\n",
      "extra edges:  []\n",
      "score: 50.0 / 50.0 (100.0%)\n",
      "following constraints: True\n",
      "complexity: 14\n",
      "\n",
      "Generating scrambled model . . .\n",
      "Scrambled model generated.\n",
      "id:  1\n",
      "generation:  1\n",
      "extra edges:  []\n",
      "score: 33.96 / 50.0 (67.9%)\n",
      "following constraints: True\n",
      "complexity: 11\n",
      "Exported generated model to c:\\Users\\danie\\OneDrive\\Documents\\Codes\\boolmore\\demo\\CAD_start.bnet\n",
      "\n"
     ]
    }
   ],
   "source": [
    "# location of the generated starting model\n",
    "START = \"CAD_start.bnet\"\n",
    "\n",
    "# seed for the random number generator\n",
    "SEED = 0\n",
    "\n",
    "\n",
    "print(\"Loading base model . . .\")\n",
    "base = Model.import_model(base_primes)\n",
    "print(\"Base model loaded.\")\n",
    "base.get_predictions(pert)\n",
    "base.get_model_score(exps)\n",
    "base.info()\n",
    "print()\n",
    "\n",
    "print(\"Generating scrambled model . . .\")\n",
    "scramble_model = base.mutate(0.5, 0, seed=SEED)\n",
    "print(\"Scrambled model generated.\")\n",
    "scramble_model.get_predictions(pert)\n",
    "scramble_model.get_model_score(exps)\n",
    "scramble_model.info()\n",
    "scramble_model.export(START)\n",
    "print()"
   ]
  }
 ],
 "metadata": {
  "kernelspec": {
   "display_name": ".venv",
   "language": "python",
   "name": "python3"
  },
  "language_info": {
   "codemirror_mode": {
    "name": "ipython",
    "version": 3
   },
   "file_extension": ".py",
   "mimetype": "text/x-python",
   "name": "python",
   "nbconvert_exporter": "python",
   "pygments_lexer": "ipython3",
   "version": "3.11.4"
  },
  "orig_nbformat": 4
 },
 "nbformat": 4,
 "nbformat_minor": 2
}
